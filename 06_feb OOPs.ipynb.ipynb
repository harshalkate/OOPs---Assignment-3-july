{
 "cells": [
  {
   "cell_type": "markdown",
   "id": "f11638f7-4a14-4807-bbc7-a72545798b59",
   "metadata": {},
   "source": [
    "1. What is the primary goal of Object-Oriented Programming (OOP)?\n",
    "Ans:There are three goals of Object Oriented Programming(OOPs) are Robustness, Adaptability, and Reusability.\n",
    "To hold entire data into a single object such that it would be easy to pass this to other methods and objects."
   ]
  },
  {
   "cell_type": "markdown",
   "id": "8fabe72f-0fd7-438f-b2ab-dd9ed8502bdb",
   "metadata": {},
   "source": [
    "2. What is an object in Python?\n",
    "Ans:An Object is an instance of a Class. A class is like a blueprint while an instance is a copy of the class with actual or current values. \n",
    "Python is an (OOP) language that stresses objects \n",
    "i.e. it mainly emphasizes Functions. \n",
    "Python Objects are basically an Encapsulation of Data variables and methods acting on that data into a single entity."
   ]
  },
  {
   "cell_type": "markdown",
   "id": "42fb0373-6b86-4328-95a9-04aeeef092d5",
   "metadata": {},
   "source": [
    "3. What is a class in Python?\n",
    "Ans:A class is a code template for creating objects means a class is a user-defined blueprint.Classes provide the bundling of data and its functionality combine."
   ]
  },
  {
   "cell_type": "markdown",
   "id": "a9c4fe2e-546e-427d-bb7b-14674bba0e65",
   "metadata": {},
   "source": [
    "4. What are attributes and methods in a class?\n",
    "Ans:In  (OOPs), attributes are variables belonging to an object or class and containing information about their properties or characteristics. At the same time, methods are functions that belong to an object or a class and are designed to perform actions involving the object's attributes."
   ]
  },
  {
   "cell_type": "markdown",
   "id": "41ac46d8-7a97-4654-a591-4da6b0ae3ad5",
   "metadata": {},
   "source": [
    "5. What is the difference between class variables and instance variables in Python?\n",
    "Ans:Class variables and instance variables are both important concepts in object-oriented programming. Class variables are shared across all instances of a class, while instance variables are unique to each instance."
   ]
  },
  {
   "cell_type": "markdown",
   "id": "7f67ac4b-a2c9-42e9-ad26-607cf2f31f93",
   "metadata": {},
   "source": [
    "6. What is the purpose of the self parameter in Python class methods?\n",
    "Ans:The self parameter is a ref to the current instance of the class, and is used to access variables that belongs to the class by using it."
   ]
  },
  {
   "cell_type": "markdown",
   "id": "dc8e8d3b-8f8c-4d10-a5e9-a5d009742a82",
   "metadata": {},
   "source": [
    "7. For a library management system, you have to design the \"Book\" class with OOP\n",
    "principles in mind. The “Book” class will have following attributes:\n",
    "a. title: Represents the title of the book.\n",
    "b. author: Represents the author(s) of the book.\n",
    "c. isbn: Represents the ISBN (International Standard Book Number) of the book.\n",
    "d. publication_year: Represents the year of publication of the book.\n",
    "e. available_copies: Represents the number of copies available for checkout.\n",
    "The class will also include the following methods:\n",
    "a. check_out(self): Decrements the available copies by one if there are copies\n",
    "available for checkout.\n",
    "b. return_book(self): Increments the available copies by one when a book is\n",
    "returned.\n",
    "c. display_book_info(self): Displays the information about the book, including its\n",
    "attributes and the number of available copies.\n"
   ]
  },
  {
   "cell_type": "code",
   "execution_count": 6,
   "id": "c022f607-7f8c-4725-93c2-22e07131348b",
   "metadata": {},
   "outputs": [],
   "source": [
    "#Ans(7):\n",
    "# creating a book class for the library records\n",
    "class Book:\n",
    "    def __init__(self,title,author,isbn,publication_year,available_copies):# using the init constructor\n",
    "        self.title = title\n",
    "        self.author = author\n",
    "        self.isbn = isbn\n",
    "        self.publication_year = publication_year\n",
    "        self.available_copies = available_copies\n",
    "    \n",
    "    def check_out(self):\n",
    "        if  self.available_copies >0:#checking with the if & else the book availability.\n",
    "            self.available_copies -=1\n",
    "            print(f\"Book is {self.title} Checked out with sucessfully.\") #printing the statement\n",
    "        else:\n",
    "            print(f\" Sorry {self.title} isn't available currently.\")#printing the statement\n",
    "    \n",
    "    def return_book(self):\n",
    "        self.available_copies +=1\n",
    "        print(f\"Book {self.title} return succesfully to library.\")#printing the statement\n",
    "    \n",
    "    def display_book_info(self):\n",
    "        print(\"Book informatin\")\n",
    "        print(f\"Title: {self.title}\")\n",
    "        print(f\"Author: {self.author}\")\n",
    "        print(f\"isbn: {self.isbn}\")\n",
    "        print(f\"Publication Year: {self.publication_year}\")\n",
    "        print(f\"Available Copies: {self.available_copies}\")"
   ]
  },
  {
   "cell_type": "code",
   "execution_count": 9,
   "id": "7a12d909-b1ac-44fd-9f64-4bfc4419cb6f",
   "metadata": {},
   "outputs": [
    {
     "name": "stdout",
     "output_type": "stream",
     "text": [
      "Book informatin\n",
      "Title: Common stocks & Uncommon profit\n",
      "Author:  Philip Fisher \n",
      "isbn: 978-1-234557-89-0\n",
      "Publication Year: 1957\n",
      "Available Copies: 2\n",
      "Book is Common stocks & Uncommon profit Checked out with sucessfully.\n",
      "Book informatin\n",
      "Title: Common stocks & Uncommon profit\n",
      "Author:  Philip Fisher \n",
      "isbn: 978-1-234557-89-0\n",
      "Publication Year: 1957\n",
      "Available Copies: 1\n",
      "Book Common stocks & Uncommon profit return succesfully to library.\n",
      "Book informatin\n",
      "Title: Common stocks & Uncommon profit\n",
      "Author:  Philip Fisher \n",
      "isbn: 978-1-234557-89-0\n",
      "Publication Year: 1957\n",
      "Available Copies: 2\n"
     ]
    }
   ],
   "source": [
    "#displaying the all the details by calling the class.\n",
    "Book1 = Book(\"Common stocks & Uncommon profit\",\" Philip Fisher \",\"978-1-234557-89-0\",1957,2)\n",
    "Book1.display_book_info ()\n",
    "Book1.check_out()\n",
    "Book1.display_book_info()\n",
    "Book1.return_book()\n",
    "Book1.display_book_info()"
   ]
  },
  {
   "cell_type": "markdown",
   "id": "3909af45-da3c-4273-8216-3403bf0893ea",
   "metadata": {},
   "source": [
    "8. For a ticket booking system, you have to design the \"Ticket\" class with OOP\n",
    "principles in mind. The “Ticket” class should have the following attributes:\n",
    "a. ticket_id: Represents the unique identifier for the ticket.\n",
    "b. event_name: Represents the name of the event.\n",
    "c. event_date: Represents the date of the event.\n",
    "d. venue: Represents the venue of the event.\n",
    "e. seat_number: Represents the seat number associated with the ticket.\n",
    "f. price: Represents the price of the ticket.\n",
    "g. is_reserved: Represents the reservation status of the ticket.\n",
    "The class also includes the following methods:\n",
    "a. reserve_ticket(self): Marks the ticket as reserved if it is not already reserved.\n",
    "b. cancel_reservation(self): Cancels the reservation of the ticket if it is already\n",
    "reserved.\n",
    "c. display_ticket_info(self): Displays the information about the ticket, including its\n",
    "attributes and reservation status."
   ]
  },
  {
   "cell_type": "code",
   "execution_count": 12,
   "id": "02d6117c-0d74-48d3-be22-171b5f970f62",
   "metadata": {},
   "outputs": [],
   "source": [
    "#Ans(8):\n",
    "#creating a class of ticket \n",
    "class Ticket:\n",
    "    def __init__(self, ticket_id, event_name, event_date, venue, seat_number, price, is_reserved=False):\n",
    "        self.ticket_id = ticket_id\n",
    "        self.event_name = event_name\n",
    "        self.event_date = event_date\n",
    "        self.venue = venue\n",
    "        self.seat_number = seat_number\n",
    "        self.price = price\n",
    "        self.is_reserved = is_reserved\n",
    "\n",
    "    def Reserve_ticket(self): #defining reserve ticket and printing it\n",
    "        if not self.is_reserved:\n",
    "            self.is_reserved = True\n",
    "            print(f\"Ticket {self.ticket_id} reserved successfully.\")\n",
    "        else:\n",
    "            print(f\"Ticket {self.ticket_id} it has been already reserved.\")\n",
    "#cancellation process for the ticket.\n",
    "    def cancel_reservation(self):\n",
    "        if self.is_reserved:\n",
    "            self.is_reserved = False\n",
    "            print(f\"Reservation for Ticket {self.ticket_id} cancelled.\")\n",
    "        else:\n",
    "            print(f\"Ticket {self.ticket_id} isn't reserved.\")\n",
    "\n",
    "    def display_ticket_info(self):\n",
    "        print(\"Ticket Information:\")\n",
    "        print(f\"Ticket ID: {self.ticket_id}\")\n",
    "        print(f\"Event Name: {self.event_name}\")\n",
    "        print(f\"Event Date: {self.event_date}\")\n",
    "        print(f\"Venue: {self.venue}\")\n",
    "        print(f\"Seat Number: {self.seat_number}\")\n",
    "        print(f\"Price: {self.price}\")\n",
    "        print(f\"Reserved: {'Yes' if self.is_reserved else 'No'}\")"
   ]
  },
  {
   "cell_type": "code",
   "execution_count": null,
   "id": "0461122d-38d1-42bf-a65a-3a355e868a1f",
   "metadata": {},
   "outputs": [],
   "source": [
    "#displaying the all the details by calling it.\n",
    "ticket1 = Ticket(\"IPL\", \"Cricket match\", \"06-02-2024\", \"Stadium\", \"A12\", 50)\n",
    "ticket1.display_ticket_info()\n",
    "ticket1.Reserve_ticket()\n",
    "ticket1.display_ticket_info()\n",
    "ticket1.cancel_reservation()\n",
    "ticket1.display_ticket_info()"
   ]
  },
  {
   "cell_type": "markdown",
   "id": "bd5ef8b2-bb6a-450c-8200-2d27e1a9a137",
   "metadata": {},
   "source": [
    "9. You are creating a shopping cart for an e-commerce website. Using OOP to model\n",
    "the \"ShoppingCart\" functionality the class should contain following attributes and\n",
    "methods:\n",
    "a. items: Represents the list of items in the shopping cart.\n",
    "The class also includes the following methods:\n",
    "a. add_item(self, item): Adds an item to the shopping cart by appending it to the\n",
    "list of items.\n",
    "b. remove_item(self, item): Removes an item from the shopping cart if it exists in\n",
    "the list.\n",
    "c. view_cart(self): Displays the items currently present in the shopping cart.\n",
    "d. clear_cart(self): Clears all items from the shopping cart by reassigning an\n",
    "empty list to the items attribute.\n"
   ]
  },
  {
   "cell_type": "code",
   "execution_count": 14,
   "id": "d95915b7-f2aa-4918-b6d3-0c215e9b0b0a",
   "metadata": {},
   "outputs": [],
   "source": [
    "#Ans(9):\n",
    "# creating a shopping cart class \n",
    "class ShoppingCart:\n",
    "    def __init__(self):\n",
    "        self.items = []#created a list for the items\n",
    "\n",
    "    def add_item(self, item):#appending the item to the shopping cart.\n",
    "        self.items.append(item)\n",
    "        print(f\"Item '{item}' has been added to the shopping cart.\")\n",
    "        \n",
    "    def remove_item(self, item):# for removing unwanted items from the cart.\n",
    "        if item in self.items:\n",
    "            self.items.remove(item)\n",
    "            print(f\"Item '{item}' removed from the shopping cart.\")\n",
    "        else:\n",
    "            print(f\"Item '{item}' not found in the shopping cart.\")\n",
    "\n",
    "    def view_cart(self):# viewing the cart to the user\n",
    "        if self.items:\n",
    "            print(\"Shopping Cart Items:\")\n",
    "            for item in self.items:\n",
    "                print(item)\n",
    "        else:\n",
    "            print(\"Shopping cart is empty.\")\n",
    "\n",
    "    def clear_cart(self):#defined the clear cart if customer wants to remove the items\n",
    "        self.items = []\n",
    "        print(\"Shopping cart cleared.\")"
   ]
  },
  {
   "cell_type": "code",
   "execution_count": 15,
   "id": "1a3a6b24-b96f-43b8-b90c-25993847cff9",
   "metadata": {},
   "outputs": [
    {
     "name": "stdout",
     "output_type": "stream",
     "text": [
      "Item 'Snacks' has been added to the shopping cart.\n",
      "Item 'Beverages' has been added to the shopping cart.\n",
      "Shopping Cart Items:\n",
      "Snacks\n",
      "Beverages\n",
      "Item 'Beverages' removed from the shopping cart.\n",
      "Shopping Cart Items:\n",
      "Snacks\n",
      "Shopping cart cleared.\n",
      "Shopping cart is empty.\n"
     ]
    }
   ],
   "source": [
    "#displaying the all the details by calling it.\n",
    "cart = ShoppingCart()\n",
    "\n",
    "cart.add_item(\"Snacks\")\n",
    "cart.add_item(\"Beverages\")\n",
    "cart.view_cart()\n",
    "\n",
    "cart.remove_item(\"Beverages\")\n",
    "cart.view_cart()\n",
    "# Again called the clear cart and view for the status of the cart.\n",
    "cart.clear_cart()\n",
    "cart.view_cart()"
   ]
  },
  {
   "cell_type": "markdown",
   "id": "c0cf9dd0-b751-43e8-aa1f-5714f1a81868",
   "metadata": {},
   "source": [
    "10. Imagine a school management system. You have to design the \"Student\" class using\n",
    "OOP concepts.The “Student” class has the following attributes:\n",
    "a. name: Represents the name of the student.\n",
    "b. age: Represents the age of the student.\n",
    "c. grade: Represents the grade or class of the student.\n",
    "d. student_id: Represents the unique identifier for the student.\n",
    "e. attendance: Represents the attendance record of the student.\n",
    "The class should also include the following methods:\n",
    "a. update_attendance(self, date, status): Updates the attendance record of the\n",
    "student for a given date with the provided status (e.g., present or absent).\n",
    "b. get_attendance(self): Returns the attendance record of the student.\n",
    "c. get_average_attendance(self): Calculates and returns the average\n",
    "attendance percentage of the student based on their attendance record."
   ]
  },
  {
   "cell_type": "code",
   "execution_count": 26,
   "id": "aaf9545d-09ce-46cf-9e64-d4642d8f9c77",
   "metadata": {},
   "outputs": [],
   "source": [
    "#Ans(10):\n",
    "# creating a student class fort the school management system\n",
    "class Student:\n",
    "    def __init__(self, name, age, grade, student_id):\n",
    "        self.name = name\n",
    "        self.age = age\n",
    "        self.grade = grade\n",
    "        self.student_id = student_id\n",
    "        self.attendance = {}\n",
    "\n",
    "    def update_attendance(self, date, status):\n",
    "        self.attendance[date] = status\n",
    "\n",
    "    def get_attendance(self):\n",
    "        return self.attendance\n",
    "\n",
    "    def get_average_attendance(self):\n",
    "        total_days = len(self.attendance)\n",
    "        if total_days == 0:\n",
    "            return 0.0\n",
    "        present_days = sum(1 for status in self.attendance.values() if status == 'present')\n",
    "        return (present_days / total_days) * 100"
   ]
  },
  {
   "cell_type": "code",
   "execution_count": 32,
   "id": "c974d178-2394-4337-a525-e8a25cc15f28",
   "metadata": {},
   "outputs": [
    {
     "name": "stdout",
     "output_type": "stream",
     "text": [
      "Attendance Record: {'2024-02-04': 'present', '2024-02-05': 'absent', '2024-02-06': 'absent'}\n",
      "Average Attendance: 33.33333333333333 %\n"
     ]
    }
   ],
   "source": [
    "# calling the class\n",
    "student1 = Student(\"Harshal Kate\", 15, 10, \"S003\")\n",
    "\n",
    "# attendance updation\n",
    "student1.update_attendance(\"2024-02-04\", \"present\")\n",
    "student1.update_attendance(\"2024-02-05\", \"absent\")\n",
    "student1.update_attendance(\"2024-02-06\", \"absent\")\n",
    "\n",
    "# Getting the student attendance\n",
    "print(\"Attendance Record:\", student1.get_attendance())\n",
    "\n",
    "# Get average attendance\n",
    "print(\"Average Attendance:\", student1.get_average_attendance(), \"%\")"
   ]
  }
 ],
 "metadata": {
  "kernelspec": {
   "display_name": "Python 3 (ipykernel)",
   "language": "python",
   "name": "python3"
  },
  "language_info": {
   "codemirror_mode": {
    "name": "ipython",
    "version": 3
   },
   "file_extension": ".py",
   "mimetype": "text/x-python",
   "name": "python",
   "nbconvert_exporter": "python",
   "pygments_lexer": "ipython3",
   "version": "3.10.6"
  }
 },
 "nbformat": 4,
 "nbformat_minor": 5
}
